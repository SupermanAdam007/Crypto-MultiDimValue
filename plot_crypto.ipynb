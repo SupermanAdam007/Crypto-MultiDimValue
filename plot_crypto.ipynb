{
 "cells": [
  {
   "cell_type": "code",
   "execution_count": 1,
   "metadata": {},
   "outputs": [
    {
     "data": {
      "text/html": [
       "<style>.container { width:95% !important; }</style>"
      ],
      "text/plain": [
       "<IPython.core.display.HTML object>"
      ]
     },
     "metadata": {},
     "output_type": "display_data"
    }
   ],
   "source": [
    "from down_data import Downloader\n",
    "import pandas as pd\n",
    "import json\n",
    "\n",
    "from IPython.core.display import display, HTML\n",
    "display(HTML(\"<style>.container { width:95% !important; }</style>\"))\n",
    "pd.options.display.max_colwidth = 100\n",
    "%matplotlib inline\n",
    "\n",
    "import plotly\n",
    "import plotly.graph_objs as go\n",
    "\n",
    "import numpy as np"
   ]
  },
  {
   "cell_type": "code",
   "execution_count": 2,
   "metadata": {
    "collapsed": true
   },
   "outputs": [],
   "source": [
    "down = Downloader()"
   ]
  },
  {
   "cell_type": "code",
   "execution_count": 16,
   "metadata": {
    "collapsed": true
   },
   "outputs": [],
   "source": [
    "def plot_dfs_3D(serX, serY):\n",
    "    X = pd.DataFrame(serX)\n",
    "    X = X.transpose()\n",
    "    X = X.append([X]*len(X.columns), ignore_index=True)[0:-1]\n",
    "    \n",
    "    Y = pd.DataFrame(serY)\n",
    "    Y = Y.transpose()\n",
    "    Y = Y.append([Y]*len(Y.columns), ignore_index=True)[0:-1]\n",
    "    Y = Y.transpose()\n",
    "    \n",
    "    Z = X.values * Y.values\n",
    "    \n",
    "    df_Z = pd.DataFrame(Z)\n",
    "    data = [go.Surface(z=df_Z.values.tolist(), colorscale='Viridis')]\n",
    "\n",
    "    layout = go.Layout(\n",
    "        width=900,\n",
    "        height=800,\n",
    "        autosize=False,\n",
    "        title='BTC_USD to BTC_USD',\n",
    "        scene=dict(\n",
    "            xaxis=dict(\n",
    "                gridcolor='rgb(255, 255, 255)',\n",
    "                zerolinecolor='rgb(255, 255, 255)',\n",
    "                showbackground=True,\n",
    "                backgroundcolor='rgb(230, 230,230)'\n",
    "            ),\n",
    "            yaxis=dict(\n",
    "                gridcolor='rgb(255, 255, 255)',\n",
    "                zerolinecolor='rgb(255, 255, 255)',\n",
    "                showbackground=True,\n",
    "                backgroundcolor='rgb(230, 230,230)'\n",
    "            ),\n",
    "            zaxis=dict(\n",
    "                gridcolor='rgb(255, 255, 255)',\n",
    "                zerolinecolor='rgb(255, 255, 255)',\n",
    "                showbackground=True,\n",
    "                backgroundcolor='rgb(230, 230,230)'\n",
    "            ),\n",
    "            aspectratio = dict( x=1, y=1, z=0.7 ),\n",
    "            aspectmode = 'manual'\n",
    "        )\n",
    "    )\n",
    "    \n",
    "    fig = dict(data=data, layout=layout)\n",
    "    url = plotly.offline.plot(fig)"
   ]
  },
  {
   "cell_type": "code",
   "execution_count": 15,
   "metadata": {
    "collapsed": true
   },
   "outputs": [],
   "source": [
    "def plot_series_2D(ser1, ser2):\n",
    "    trace = go.Scatter(\n",
    "        x = ser1.tolist(),\n",
    "        y = ser2.tolist(),\n",
    "        mode = 'lines+markers',\n",
    "        name = 'plot_series_2D'\n",
    "    )\n",
    "    \n",
    "    data = [trace]\n",
    "    plotly.offline.plot(data)"
   ]
  },
  {
   "cell_type": "code",
   "execution_count": 11,
   "metadata": {},
   "outputs": [
    {
     "name": "stdout",
     "output_type": "stream",
     "text": [
      "get_pricemulti request: https://min-api.cryptocompare.com/data/pricemulti?&fsyms=BTC&tsyms=USD&e=Poloniex\n",
      "get_histohour request: https://min-api.cryptocompare.com/data/histohour?&fsym=XMR&tsym=USD&limit=24&aggregate=1&e=Poloniex\n",
      "get_returnTradeHistory request: https://poloniex.com/public?command=returnTradeHistory&currencyPair=BTC_XMR&start=1512658800&end=1512745200\n"
     ]
    }
   ],
   "source": [
    "price_BTC_USD = down.get_pricemulti_json(['BTC'], ['USD'], e='Poloniex')\n",
    "\n",
    "histo_json_XMR_USD = down.get_histo_json('XMR', 'USD', limit=24*1, t_horiz='hour') #max limit = 24*83\n",
    "#histo_json_XMR_BTC = down.get_histo_json('XMR', 'BTC', limit=24*1, t_horiz='hour') #max limit = 24*83\n",
    "\n",
    "tradeHistory_XMR_USD = down.get_tradeHistory_json(['BTC', 'XMR'], t_from=histo_json_XMR_USD['TimeFrom'], t_to=histo_json_XMR_USD['TimeTo'])"
   ]
  },
  {
   "cell_type": "code",
   "execution_count": 5,
   "metadata": {
    "scrolled": false
   },
   "outputs": [],
   "source": [
    "df_XMR_USD = pd.DataFrame(histo_json_XMR_USD['Data'])\n",
    "df_XMR_USD = df_XMR_USD[['time', 'close', 'high', 'low', 'open']]\n",
    "df_XMR_USD['time'] = pd.to_datetime(df_XMR_USD['time'], unit='s')\n",
    "\n",
    "df_XMR_USD_diff = df_XMR_USD[['close', 'high', 'low', 'open']].diff()[1:-1]\n",
    "df_XMR_USD_diff['time'] = df_XMR_USD['time'][1:-1]\n",
    "df_XMR_USD_diff = df_XMR_USD_diff.reset_index(drop=True)"
   ]
  },
  {
   "cell_type": "code",
   "execution_count": 6,
   "metadata": {
    "collapsed": true
   },
   "outputs": [
    {
     "ename": "NameError",
     "evalue": "name 'histo_json_XMR_BTC' is not defined",
     "output_type": "error",
     "traceback": [
      "\u001b[1;31m---------------------------------------------------------------------------\u001b[0m",
      "\u001b[1;31mNameError\u001b[0m                                 Traceback (most recent call last)",
      "\u001b[1;32m<ipython-input-6-dde87a16758d>\u001b[0m in \u001b[0;36m<module>\u001b[1;34m()\u001b[0m\n\u001b[1;32m----> 1\u001b[1;33m \u001b[0mdf_XMR_BTC\u001b[0m \u001b[1;33m=\u001b[0m \u001b[0mpd\u001b[0m\u001b[1;33m.\u001b[0m\u001b[0mDataFrame\u001b[0m\u001b[1;33m(\u001b[0m\u001b[0mhisto_json_XMR_BTC\u001b[0m\u001b[1;33m[\u001b[0m\u001b[1;34m'Data'\u001b[0m\u001b[1;33m]\u001b[0m\u001b[1;33m)\u001b[0m\u001b[1;33m\u001b[0m\u001b[0m\n\u001b[0m\u001b[0;32m      2\u001b[0m \u001b[0mdf_XMR_BTC\u001b[0m \u001b[1;33m=\u001b[0m \u001b[0mdf_XMR_BTC\u001b[0m\u001b[1;33m[\u001b[0m\u001b[1;33m[\u001b[0m\u001b[1;34m'time'\u001b[0m\u001b[1;33m,\u001b[0m \u001b[1;34m'close'\u001b[0m\u001b[1;33m,\u001b[0m \u001b[1;34m'high'\u001b[0m\u001b[1;33m,\u001b[0m \u001b[1;34m'low'\u001b[0m\u001b[1;33m,\u001b[0m \u001b[1;34m'open'\u001b[0m\u001b[1;33m]\u001b[0m\u001b[1;33m]\u001b[0m\u001b[1;33m\u001b[0m\u001b[0m\n\u001b[0;32m      3\u001b[0m \u001b[0mdf_XMR_BTC\u001b[0m\u001b[1;33m[\u001b[0m\u001b[1;34m'time'\u001b[0m\u001b[1;33m]\u001b[0m \u001b[1;33m=\u001b[0m \u001b[0mpd\u001b[0m\u001b[1;33m.\u001b[0m\u001b[0mto_datetime\u001b[0m\u001b[1;33m(\u001b[0m\u001b[0mdf_XMR_BTC\u001b[0m\u001b[1;33m[\u001b[0m\u001b[1;34m'time'\u001b[0m\u001b[1;33m]\u001b[0m\u001b[1;33m,\u001b[0m \u001b[0munit\u001b[0m\u001b[1;33m=\u001b[0m\u001b[1;34m's'\u001b[0m\u001b[1;33m)\u001b[0m\u001b[1;33m\u001b[0m\u001b[0m\n\u001b[0;32m      4\u001b[0m \u001b[1;33m\u001b[0m\u001b[0m\n\u001b[0;32m      5\u001b[0m \u001b[0mdf_XMR_BTC_diff\u001b[0m \u001b[1;33m=\u001b[0m \u001b[0mdf_XMR_BTC\u001b[0m\u001b[1;33m[\u001b[0m\u001b[1;33m[\u001b[0m\u001b[1;34m'close'\u001b[0m\u001b[1;33m,\u001b[0m \u001b[1;34m'high'\u001b[0m\u001b[1;33m,\u001b[0m \u001b[1;34m'low'\u001b[0m\u001b[1;33m,\u001b[0m \u001b[1;34m'open'\u001b[0m\u001b[1;33m]\u001b[0m\u001b[1;33m]\u001b[0m\u001b[1;33m.\u001b[0m\u001b[0mdiff\u001b[0m\u001b[1;33m(\u001b[0m\u001b[1;33m)\u001b[0m\u001b[1;33m[\u001b[0m\u001b[1;36m1\u001b[0m\u001b[1;33m:\u001b[0m\u001b[1;33m-\u001b[0m\u001b[1;36m1\u001b[0m\u001b[1;33m]\u001b[0m\u001b[1;33m\u001b[0m\u001b[0m\n",
      "\u001b[1;31mNameError\u001b[0m: name 'histo_json_XMR_BTC' is not defined"
     ]
    }
   ],
   "source": [
    "# df_XMR_BTC = pd.DataFrame(histo_json_XMR_BTC['Data'])\n",
    "# df_XMR_BTC = df_XMR_BTC[['time', 'close', 'high', 'low', 'open']]\n",
    "# df_XMR_BTC['time'] = pd.to_datetime(df_XMR_BTC['time'], unit='s')\n",
    "\n",
    "# df_XMR_BTC_diff = df_XMR_BTC[['close', 'high', 'low', 'open']].diff()[1:-1]\n",
    "# df_XMR_BTC_diff['time'] = df_XMR_BTC['time'][1:-1]\n",
    "# df_XMR_BTC_diff = df_XMR_BTC_diff.reset_index(drop=True)"
   ]
  },
  {
   "cell_type": "code",
   "execution_count": null,
   "metadata": {},
   "outputs": [],
   "source": [
    "plot_dfs_3D(df_XMR_USD, df_XMR_BTC)"
   ]
  },
  {
   "cell_type": "code",
   "execution_count": null,
   "metadata": {
    "collapsed": true
   },
   "outputs": [],
   "source": []
  },
  {
   "cell_type": "code",
   "execution_count": 13,
   "metadata": {
    "scrolled": true
   },
   "outputs": [],
   "source": [
    "df_trade = pd.DataFrame(tradeHistory_XMR_USD)"
   ]
  },
  {
   "cell_type": "code",
   "execution_count": 20,
   "metadata": {
    "scrolled": true
   },
   "outputs": [
    {
     "data": {
      "text/html": [
       "<div>\n",
       "<style>\n",
       "    .dataframe thead tr:only-child th {\n",
       "        text-align: right;\n",
       "    }\n",
       "\n",
       "    .dataframe thead th {\n",
       "        text-align: left;\n",
       "    }\n",
       "\n",
       "    .dataframe tbody tr th {\n",
       "        vertical-align: top;\n",
       "    }\n",
       "</style>\n",
       "<table border=\"1\" class=\"dataframe\">\n",
       "  <thead>\n",
       "    <tr style=\"text-align: right;\">\n",
       "      <th></th>\n",
       "      <th>amount</th>\n",
       "      <th>date</th>\n",
       "      <th>globalTradeID</th>\n",
       "      <th>rate</th>\n",
       "      <th>total</th>\n",
       "      <th>tradeID</th>\n",
       "      <th>type</th>\n",
       "    </tr>\n",
       "  </thead>\n",
       "  <tbody>\n",
       "    <tr>\n",
       "      <th>0</th>\n",
       "      <td>0.09343977</td>\n",
       "      <td>2017-12-08 14:59:47</td>\n",
       "      <td>282068316</td>\n",
       "      <td>0.01603709</td>\n",
       "      <td>0.00149850</td>\n",
       "      <td>14553314</td>\n",
       "      <td>sell</td>\n",
       "    </tr>\n",
       "    <tr>\n",
       "      <th>1</th>\n",
       "      <td>0.08920773</td>\n",
       "      <td>2017-12-08 14:59:16</td>\n",
       "      <td>282067921</td>\n",
       "      <td>0.01603709</td>\n",
       "      <td>0.00143063</td>\n",
       "      <td>14553313</td>\n",
       "      <td>sell</td>\n",
       "    </tr>\n",
       "    <tr>\n",
       "      <th>2</th>\n",
       "      <td>0.50000000</td>\n",
       "      <td>2017-12-08 14:59:05</td>\n",
       "      <td>282067786</td>\n",
       "      <td>0.01604460</td>\n",
       "      <td>0.00802230</td>\n",
       "      <td>14553312</td>\n",
       "      <td>buy</td>\n",
       "    </tr>\n",
       "    <tr>\n",
       "      <th>3</th>\n",
       "      <td>1.13693319</td>\n",
       "      <td>2017-12-08 14:58:49</td>\n",
       "      <td>282067578</td>\n",
       "      <td>0.01603709</td>\n",
       "      <td>0.01823309</td>\n",
       "      <td>14553311</td>\n",
       "      <td>sell</td>\n",
       "    </tr>\n",
       "    <tr>\n",
       "      <th>4</th>\n",
       "      <td>0.05901054</td>\n",
       "      <td>2017-12-08 14:58:49</td>\n",
       "      <td>282067577</td>\n",
       "      <td>0.01604360</td>\n",
       "      <td>0.00094674</td>\n",
       "      <td>14553310</td>\n",
       "      <td>sell</td>\n",
       "    </tr>\n",
       "  </tbody>\n",
       "</table>\n",
       "</div>"
      ],
      "text/plain": [
       "       amount                 date  globalTradeID        rate       total  \\\n",
       "0  0.09343977  2017-12-08 14:59:47      282068316  0.01603709  0.00149850   \n",
       "1  0.08920773  2017-12-08 14:59:16      282067921  0.01603709  0.00143063   \n",
       "2  0.50000000  2017-12-08 14:59:05      282067786  0.01604460  0.00802230   \n",
       "3  1.13693319  2017-12-08 14:58:49      282067578  0.01603709  0.01823309   \n",
       "4  0.05901054  2017-12-08 14:58:49      282067577  0.01604360  0.00094674   \n",
       "\n",
       "    tradeID  type  \n",
       "0  14553314  sell  \n",
       "1  14553313  sell  \n",
       "2  14553312   buy  \n",
       "3  14553311  sell  \n",
       "4  14553310  sell  "
      ]
     },
     "execution_count": 20,
     "metadata": {},
     "output_type": "execute_result"
    }
   ],
   "source": [
    "df_trade.head()"
   ]
  },
  {
   "cell_type": "code",
   "execution_count": 21,
   "metadata": {
    "collapsed": true
   },
   "outputs": [],
   "source": [
    "plot_series_2D(df_XMR_USD_diff.close, df_trade.total)"
   ]
  },
  {
   "cell_type": "code",
   "execution_count": null,
   "metadata": {
    "collapsed": true
   },
   "outputs": [],
   "source": []
  },
  {
   "cell_type": "code",
   "execution_count": null,
   "metadata": {
    "collapsed": true
   },
   "outputs": [],
   "source": []
  },
  {
   "cell_type": "code",
   "execution_count": null,
   "metadata": {
    "collapsed": true
   },
   "outputs": [],
   "source": []
  },
  {
   "cell_type": "code",
   "execution_count": null,
   "metadata": {
    "collapsed": true
   },
   "outputs": [],
   "source": []
  },
  {
   "cell_type": "code",
   "execution_count": null,
   "metadata": {
    "collapsed": true
   },
   "outputs": [],
   "source": []
  },
  {
   "cell_type": "code",
   "execution_count": null,
   "metadata": {
    "collapsed": true
   },
   "outputs": [],
   "source": []
  },
  {
   "cell_type": "code",
   "execution_count": null,
   "metadata": {
    "collapsed": true
   },
   "outputs": [],
   "source": []
  },
  {
   "cell_type": "code",
   "execution_count": null,
   "metadata": {
    "collapsed": true
   },
   "outputs": [],
   "source": []
  },
  {
   "cell_type": "code",
   "execution_count": null,
   "metadata": {
    "collapsed": true
   },
   "outputs": [],
   "source": []
  },
  {
   "cell_type": "code",
   "execution_count": null,
   "metadata": {
    "collapsed": true
   },
   "outputs": [],
   "source": []
  },
  {
   "cell_type": "code",
   "execution_count": null,
   "metadata": {
    "collapsed": true
   },
   "outputs": [],
   "source": []
  },
  {
   "cell_type": "code",
   "execution_count": null,
   "metadata": {
    "collapsed": true
   },
   "outputs": [],
   "source": []
  },
  {
   "cell_type": "code",
   "execution_count": null,
   "metadata": {
    "collapsed": true
   },
   "outputs": [],
   "source": []
  },
  {
   "cell_type": "code",
   "execution_count": null,
   "metadata": {
    "collapsed": true
   },
   "outputs": [],
   "source": []
  },
  {
   "cell_type": "code",
   "execution_count": null,
   "metadata": {
    "collapsed": true
   },
   "outputs": [],
   "source": []
  },
  {
   "cell_type": "code",
   "execution_count": null,
   "metadata": {
    "collapsed": true
   },
   "outputs": [],
   "source": []
  },
  {
   "cell_type": "code",
   "execution_count": null,
   "metadata": {
    "collapsed": true
   },
   "outputs": [],
   "source": []
  },
  {
   "cell_type": "code",
   "execution_count": null,
   "metadata": {
    "collapsed": true
   },
   "outputs": [],
   "source": []
  },
  {
   "cell_type": "code",
   "execution_count": null,
   "metadata": {
    "collapsed": true
   },
   "outputs": [],
   "source": []
  },
  {
   "cell_type": "code",
   "execution_count": null,
   "metadata": {
    "collapsed": true
   },
   "outputs": [],
   "source": []
  },
  {
   "cell_type": "code",
   "execution_count": null,
   "metadata": {
    "collapsed": true
   },
   "outputs": [],
   "source": []
  },
  {
   "cell_type": "code",
   "execution_count": null,
   "metadata": {
    "collapsed": true
   },
   "outputs": [],
   "source": []
  },
  {
   "cell_type": "code",
   "execution_count": null,
   "metadata": {
    "collapsed": true
   },
   "outputs": [],
   "source": []
  },
  {
   "cell_type": "code",
   "execution_count": null,
   "metadata": {
    "collapsed": true
   },
   "outputs": [],
   "source": []
  },
  {
   "cell_type": "code",
   "execution_count": null,
   "metadata": {
    "collapsed": true
   },
   "outputs": [],
   "source": []
  }
 ],
 "metadata": {
  "kernelspec": {
   "display_name": "Python 3",
   "language": "python",
   "name": "python3"
  },
  "language_info": {
   "codemirror_mode": {
    "name": "ipython",
    "version": 3
   },
   "file_extension": ".py",
   "mimetype": "text/x-python",
   "name": "python",
   "nbconvert_exporter": "python",
   "pygments_lexer": "ipython3",
   "version": "3.6.1"
  }
 },
 "nbformat": 4,
 "nbformat_minor": 2
}
